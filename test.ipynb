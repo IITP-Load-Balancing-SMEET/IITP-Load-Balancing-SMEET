{
 "cells": [
  {
   "cell_type": "code",
   "execution_count": 1,
   "metadata": {},
   "outputs": [],
   "source": [
    "import carla\n",
    "import numpy as np"
   ]
  },
  {
   "cell_type": "code",
   "execution_count": 2,
   "metadata": {},
   "outputs": [],
   "source": [
    "import carla\n",
    "import numpy as np\n",
    "\n",
    "client = carla.Client('localhost', 2000)\n",
    "world = client.load_world('Town10HD')\n",
    "map = world.get_map()\n",
    "bp = world.get_blueprint_library()\n",
    "ego = bp.find('vehicle.lincoln.mkz_2017')\n",
    "\n",
    "vehicle=[]\n",
    "        "
   ]
  },
  {
   "cell_type": "code",
   "execution_count": null,
   "metadata": {},
   "outputs": [],
   "source": [
    "tm = client.get_trafficmanager()\n",
    "tm.set_synchronous_mode(False)"
   ]
  },
  {
   "cell_type": "code",
   "execution_count": 4,
   "metadata": {},
   "outputs": [],
   "source": [
    "for i in range(5):\n",
    "    actor = world.spawn_actor(ego, np.random.choice(map.get_spawn_points()))\n",
    "    \n"
   ]
  },
  {
   "cell_type": "code",
   "execution_count": 7,
   "metadata": {},
   "outputs": [
    {
     "name": "stdout",
     "output_type": "stream",
     "text": [
      "Actor(id=24, type=spectator)\n",
      "Actor(id=25, type=traffic.stop)\n",
      "Actor(id=26, type=traffic.stop)\n",
      "Actor(id=27, type=traffic.stop)\n",
      "Actor(id=28, type=traffic.yield)\n",
      "Actor(id=29, type=traffic.unknown)\n",
      "Actor(id=30, type=traffic.unknown)\n",
      "Actor(id=31, type=traffic.unknown)\n",
      "Actor(id=32, type=traffic.traffic_light)\n",
      "Actor(id=33, type=traffic.traffic_light)\n",
      "Actor(id=34, type=traffic.traffic_light)\n",
      "Actor(id=35, type=traffic.traffic_light)\n",
      "Actor(id=36, type=traffic.traffic_light)\n",
      "Actor(id=37, type=traffic.traffic_light)\n",
      "Actor(id=38, type=traffic.traffic_light)\n",
      "Actor(id=39, type=traffic.traffic_light)\n",
      "Actor(id=40, type=traffic.traffic_light)\n",
      "Actor(id=41, type=traffic.traffic_light)\n",
      "Actor(id=42, type=traffic.traffic_light)\n",
      "Actor(id=43, type=traffic.traffic_light)\n",
      "Actor(id=44, type=traffic.traffic_light)\n",
      "Actor(id=45, type=traffic.traffic_light)\n",
      "Actor(id=46, type=traffic.traffic_light)\n",
      "Actor(id=47, type=vehicle.lincoln.mkz_2017)\n",
      "Actor(id=48, type=vehicle.lincoln.mkz_2017)\n",
      "Actor(id=49, type=vehicle.lincoln.mkz_2017)\n",
      "Actor(id=50, type=vehicle.lincoln.mkz_2017)\n",
      "Actor(id=51, type=vehicle.lincoln.mkz_2017)\n",
      "Actor(id=52, type=vehicle.lincoln.mkz_2017)\n",
      "Actor(id=53, type=vehicle.lincoln.mkz_2017)\n",
      "Actor(id=54, type=vehicle.lincoln.mkz_2017)\n",
      "Actor(id=55, type=vehicle.lincoln.mkz_2017)\n"
     ]
    }
   ],
   "source": [
    "A=world.get_actors()\n",
    "\n",
    "for i in A:\n",
    "    print(i)"
   ]
  }
 ],
 "metadata": {
  "kernelspec": {
   "display_name": "Python 3",
   "language": "python",
   "name": "python3"
  },
  "language_info": {
   "codemirror_mode": {
    "name": "ipython",
    "version": 3
   },
   "file_extension": ".py",
   "mimetype": "text/x-python",
   "name": "python",
   "nbconvert_exporter": "python",
   "pygments_lexer": "ipython3",
   "version": "3.8.18"
  }
 },
 "nbformat": 4,
 "nbformat_minor": 2
}
