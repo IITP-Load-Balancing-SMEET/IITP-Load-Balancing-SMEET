{
 "cells": [
  {
   "cell_type": "code",
   "execution_count": 32,
   "metadata": {},
   "outputs": [],
   "source": [
    "import carla\n",
    "import numpy as np"
   ]
  },
  {
   "cell_type": "code",
   "execution_count": 33,
   "metadata": {},
   "outputs": [],
   "source": [
    "import carla\n",
    "import numpy as np\n",
    "\n",
    "client = carla.Client('localhost', 2000)\n",
    "world = client.load_world('Town10HD')\n",
    "map = world.get_map()\n",
    "bp = world.get_blueprint_library()\n",
    "ego = bp.find('vehicle.lincoln.mkz_2017')\n",
    "\n",
    "vehicle=[]"
   ]
  },
  {
   "cell_type": "code",
   "execution_count": 34,
   "metadata": {},
   "outputs": [],
   "source": [
    "tm = client.get_trafficmanager()\n",
    "tm.set_synchronous_mode(False)"
   ]
  },
  {
   "cell_type": "code",
   "execution_count": 35,
   "metadata": {},
   "outputs": [],
   "source": [
    "for i in range(1):\n",
    "    actor = world.spawn_actor(ego, np.random.choice(map.get_spawn_points()))\n",
    "    vehicle.append(actor)\n",
    "    \n"
   ]
  },
  {
   "cell_type": "code",
   "execution_count": 37,
   "metadata": {},
   "outputs": [
    {
     "name": "stdout",
     "output_type": "stream",
     "text": [
      "BoundingBox(Location(x=0.004043, y=0.000002, z=0.718860), Extent(x=2.450842, y=1.064162, z=0.755373), Rotation(pitch=0.000000, yaw=0.000000, roll=0.000000))\n",
      "Location(x=0.004043, y=0.000002, z=0.718860)\n"
     ]
    }
   ],
   "source": [
    "A=vehicle[0]\n",
    "print(A.bounding_box)\n",
    "lo_b =A.bounding_box.location\n",
    "print(lo_b)\n"
   ]
  },
  {
   "cell_type": "code",
   "execution_count": 38,
   "metadata": {},
   "outputs": [
    {
     "name": "stdout",
     "output_type": "stream",
     "text": [
      "Location(x=0.600000, y=0.000000, z=-0.300000)\n"
     ]
    }
   ],
   "source": [
    "physics = A.get_physics_control()\n",
    "print(physics.center_of_mass)"
   ]
  },
  {
   "cell_type": "code",
   "execution_count": 39,
   "metadata": {},
   "outputs": [],
   "source": []
  },
  {
   "cell_type": "code",
   "execution_count": 40,
   "metadata": {},
   "outputs": [
    {
     "data": {
      "text/plain": [
       "True"
      ]
     },
     "execution_count": 40,
     "metadata": {},
     "output_type": "execute_result"
    }
   ],
   "source": [
    "A.destroy()"
   ]
  }
 ],
 "metadata": {
  "kernelspec": {
   "display_name": "Python 3",
   "language": "python",
   "name": "python3"
  },
  "language_info": {
   "codemirror_mode": {
    "name": "ipython",
    "version": 3
   },
   "file_extension": ".py",
   "mimetype": "text/x-python",
   "name": "python",
   "nbconvert_exporter": "python",
   "pygments_lexer": "ipython3",
   "version": "3.8.18"
  }
 },
 "nbformat": 4,
 "nbformat_minor": 2
}
